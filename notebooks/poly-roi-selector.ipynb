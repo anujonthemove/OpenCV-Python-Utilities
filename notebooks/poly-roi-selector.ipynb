{
 "cells": [
  {
   "attachments": {},
   "cell_type": "markdown",
   "metadata": {},
   "source": [
    "### Polygonal ROI\n",
    "\n",
    "* This code has been taken from: https://stackoverflow.com/questions/37099262/drawing-filled-polygon-using-mouse-events-in-open-cv-using-python/37235130. \n",
    "\n",
    "* I have made the following modifications to the code:\n",
    "\n",
    "    *   Instead of taking a fixed size canvas, I have modifed it to take an RGB image.\n",
    "    *   Color of the lines being drawn and the final lines being drawn has been changed.\n",
    "    *   The code now saves roi masked image on the disk.\n"
   ]
  },
  {
   "cell_type": "code",
   "execution_count": null,
   "metadata": {},
   "outputs": [],
   "source": [
    "import numpy as np\n",
    "import cv2"
   ]
  },
  {
   "cell_type": "code",
   "execution_count": null,
   "metadata": {},
   "outputs": [],
   "source": [
    "class PolygonDrawer(object):\n",
    "    def __init__(self, window_name, image):\n",
    "        self.FINAL_LINE_COLOR = (0, 255, 0)\n",
    "        self.WORKING_LINE_COLOR = (0, 0, 255)\n",
    "        self.image = image\n",
    "        self.window_name = window_name # Name for our window\n",
    "        self.done = False # Flag signalling we're done\n",
    "        self.current = (0, 0) # Current position, so we can draw the line-in-progress\n",
    "        self.points = [] # List of points defining our polygon\n",
    "\n",
    "\n",
    "    def on_mouse(self, event, x, y, buttons, user_param):\n",
    "        # Mouse callback that gets called for every mouse event (i.e. moving, clicking, etc.)\n",
    "\n",
    "        if self.done: # Nothing more to do\n",
    "            return\n",
    "        if event == cv2.EVENT_MOUSEMOVE:\n",
    "            # We want to be able to draw the line-in-progress, so update current mouse position\n",
    "            self.current = (x, y)\n",
    "        elif event == cv2.EVENT_LBUTTONDOWN:\n",
    "            # Left click means adding a point at current position to the list of points\n",
    "            print(\"Adding point #%d with position(%d,%d)\" % (len(self.points), x, y))\n",
    "            self.points.append((x, y))\n",
    "        elif event == cv2.EVENT_RBUTTONDOWN:\n",
    "            # Right click means we're done\n",
    "            print(\"Completing polygon with %d points.\" % len(self.points))\n",
    "            self.done = True\n",
    "\n",
    "\n",
    "    def run(self):\n",
    "        # Let's create our working window and set a mouse callback to handle events\n",
    "        cv2.namedWindow(self.window_name, flags=cv2.WINDOW_AUTOSIZE)\n",
    "        # cv2.imshow(self.window_name, np.zeros(CANVAS_SIZE, np.uint8))\n",
    "        cv2.imshow(self.window_name, self.image)\n",
    "        cv2.waitKey(1)\n",
    "        cv2.setMouseCallback(self.window_name, self.on_mouse)\n",
    "\n",
    "        while(not self.done):\n",
    "            # This is our drawing loop, we just continuously draw new images\n",
    "            # and show them in the named window\n",
    "            # canvas = np.zeros(CANVAS_SIZE, np.uint8)\n",
    "            canvas = self.image.copy()\n",
    "            if (len(self.points) > 0):\n",
    "                # Draw all the current polygon segments\n",
    "                cv2.polylines(canvas, np.array([self.points]), False, self.FINAL_LINE_COLOR, thickness=4)\n",
    "                # And  also show what the current segment would look like\n",
    "                cv2.line(canvas, self.points[-1], self.current, self.WORKING_LINE_COLOR, thickness=4)\n",
    "            # Update the window\n",
    "            cv2.imshow(self.window_name, canvas)\n",
    "            # And wait 50ms before next iteration (this will pump window messages meanwhile)\n",
    "            if cv2.waitKey(50) == 27: # ESC hit\n",
    "                self.done = True\n",
    "\n",
    "        # User finised entering the polygon points, so let's make the final drawing\n",
    "        # canvas = np.zeros(CANVAS_SIZE, np.uint8)\n",
    "        canvas = self.image\n",
    "        mask = np.zeros(self.image.shape[:2], np.uint8)\n",
    "\n",
    "        # of a filled polygon\n",
    "        if (len(self.points) > 0):\n",
    "            # cv2.fillPoly(canvas, np.array([self.points]), self.FINAL_LINE_COLOR)\n",
    "            cv2.fillPoly(mask, np.array([self.points]), (255, 255, 255))\n",
    "            self.image = cv2.bitwise_and(canvas, canvas, mask=mask)\n",
    "        # And show it\n",
    "        cv2.imshow(self.window_name, self.image)\n",
    "        cv2.waitKey()\n",
    "        cv2.destroyAllWindows()\n",
    "        return self.image"
   ]
  },
  {
   "cell_type": "code",
   "execution_count": null,
   "metadata": {},
   "outputs": [],
   "source": [
    "if __name__ == \"__main__\":\n",
    "    pd = PolygonDrawer(window_name=\"Draw Polygonal ROI\", image=image)\n",
    "    image = pd.run()\n",
    "    cv2.imwrite(\"polygon.png\", image)\n",
    "    print(\"Polygon = %s\" % pd.points)"
   ]
  }
 ],
 "metadata": {
  "kernelspec": {
   "display_name": ".venv",
   "language": "python",
   "name": "python3"
  },
  "language_info": {
   "codemirror_mode": {
    "name": "ipython",
    "version": 3
   },
   "file_extension": ".py",
   "mimetype": "text/x-python",
   "name": "python",
   "nbconvert_exporter": "python",
   "pygments_lexer": "ipython3",
   "version": "3.8.10"
  },
  "orig_nbformat": 4
 },
 "nbformat": 4,
 "nbformat_minor": 2
}
